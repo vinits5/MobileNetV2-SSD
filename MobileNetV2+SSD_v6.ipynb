{
  "nbformat": 4,
  "nbformat_minor": 0,
  "metadata": {
    "colab": {
      "name": "MobileNetV2+SSD_v6.ipynb",
      "provenance": [],
      "collapsed_sections": []
    },
    "kernelspec": {
      "name": "python3",
      "display_name": "Python 3"
    },
    "accelerator": "GPU"
  },
  "cells": [
    {
      "cell_type": "code",
      "metadata": {
        "colab": {
          "base_uri": "https://localhost:8080/"
        },
        "id": "23wuE1X4ZbLe",
        "outputId": "f66fd2a7-261d-4a46-9133-7f823cf2b51b"
      },
      "source": [
        "from google.colab import drive\n",
        "drive.mount('/content/drive')"
      ],
      "execution_count": null,
      "outputs": [
        {
          "output_type": "stream",
          "text": [
            "Drive already mounted at /content/drive; to attempt to forcibly remount, call drive.mount(\"/content/drive\", force_remount=True).\n"
          ],
          "name": "stdout"
        }
      ]
    },
    {
      "cell_type": "code",
      "metadata": {
        "colab": {
          "base_uri": "https://localhost:8080/"
        },
        "id": "IVv9a9uMZhj5",
        "outputId": "2ccda700-ee90-4759-c45b-b1cc40b28718"
      },
      "source": [
        "ls"
      ],
      "execution_count": null,
      "outputs": [
        {
          "output_type": "stream",
          "text": [
            "CreateDataset.ipynb                       MobileNetV2+SSD_v2.ipynb\n",
            "\u001b[0m\u001b[01;34mdata\u001b[0m/                                     MobileNetV2+SSD_v3.ipynb\n",
            "mnist_obj_detection_100_test.tfrecords    MobileNetV2+SSD_v4.ipynb\n",
            "mnist_obj_detection_2000_train.tfrecords  MobileNetV2+SSD_v5.ipynb\n",
            "MobileNetV2+SSD.ipynb                     MobileNetV2+SSD_v6.ipynb\n",
            "MobileNetV2+SSD_v1.ipynb                  TestKeras.ipynb\n"
          ],
          "name": "stdout"
        }
      ]
    },
    {
      "cell_type": "code",
      "metadata": {
        "id": "CXuQP38aFi94"
      },
      "source": [
        "import tensorflow as tf\n",
        "import numpy as np\n",
        "from numpy import matlib\n",
        "from PIL import Image\n",
        "import matplotlib.pyplot as plt\n",
        "import matplotlib.patches as patches\n",
        "import tensorflow.keras as keras\n",
        "from tensorflow.keras import layers\n",
        "from keras import backend as K"
      ],
      "execution_count": null,
      "outputs": []
    },
    {
      "cell_type": "code",
      "metadata": {
        "id": "0jL765qOfwkR"
      },
      "source": [
        "IMG_SIZE = 224\n",
        "NUM_CLASSES = 10\n",
        "\n",
        "layerWidths = [28,14,7,4,2,1]\n",
        "numBoxes = [3,3,3,3,3,3]\n",
        "assert len(numBoxes) == len(layerWidths)        # numBoxes for each layer and each layer has a specific width\n",
        "outputChannels = NUM_CLASSES + 1 + 4            # 10 classes + background + cx,cy,h,w\n",
        "assert outputChannels - NUM_CLASSES == 5"
      ],
      "execution_count": null,
      "outputs": []
    },
    {
      "cell_type": "markdown",
      "metadata": {
        "id": "xGtGIEkvQkFT"
      },
      "source": [
        "Reference is taken from this blog. https://d2l.ai/chapter_computer-vision/anchor.html \\\\\n",
        "\"*Assume that the input image has a height of h and width of w. We generate anchor boxes with different shapes centered on each pixel of the image. Assume the size is s∈(0,1], the aspect ratio is r>0, and the width and height of the anchor box are ws√r and hs/√r, respectively. When the center position is given, an anchor box with known width and height is determined.*\" \\\\\n",
        "\n",
        "s: scale, h: grid_size, w: grid_size and r: asp"
      ]
    },
    {
      "cell_type": "code",
      "metadata": {
        "id": "CrXPAnHPHas5"
      },
      "source": [
        "def create_default_boxes():\n",
        "\t# number of scales is equal to the number of different resolutions ie num of layer widths\n",
        "\t# for a given resolution, we have different aspect ratios\n",
        "\t# num(scales) = num(layerWidth) = num(numBoxes) and num(asp_ratios) = numBoxes[i]\n",
        "\tMinScale = .1 \t\t\t\t\t# Min and Max scale given as percentage\n",
        "\tMaxScale = 1.5\n",
        "\tscales = [ MinScale + x/len(layerWidths) * (MaxScale-MinScale) for x in range(len(layerWidths))]\n",
        "\tscales = scales[::-1] \t\t\t\t\t\t# reversing the order because the layer_widths go from high to low (lower to higher resoltuion)\n",
        "\n",
        "\tasp = [0.5,1.0,1.5]\n",
        "\tasp1 = [x**0.5 for x in asp]\n",
        "\tasp2 = [1/x for x in asp1]\n",
        "\n",
        "\t# Should be equal to the output of the MobileNetV2-SSD model.\n",
        "\tTOTAL_BOXES = sum([a*a*b for a,b in zip(layerWidths, numBoxes)])\t\t# Computes total number of boxes. (Sum of (layer_widths*layer_widths*num_boxes))\n",
        "\n",
        "\tcentres = np.zeros((TOTAL_BOXES,2))\n",
        "\thw = np.zeros((TOTAL_BOXES,2))\n",
        "\tboxes = np.zeros((TOTAL_BOXES,4))\n",
        "\n",
        "\t# Calculating the default boxes (centres, height, width)\n",
        "\tidx = 0\n",
        "\tfor grid_size, num_box, scale in zip(layerWidths, numBoxes, scales):\n",
        "\t\tstep_size = IMG_SIZE*1.0/grid_size\n",
        "\t\tfor i in range(grid_size):\n",
        "\t\t\tfor j in range(grid_size):\n",
        "\t\t\t\tpos = idx + (i*grid_size+j) * num_box\n",
        "\t\t\t\t# centre is the same for all aspect ratios(=num_box)\n",
        "\t\t\t\tcentres[ pos : pos + num_box , :] = i*step_size + step_size/2, j*step_size + step_size/2\n",
        "\t\t\t\t# height and width vary according to the scale and aspect ratio\n",
        "\t\t\t\thw[ pos : pos + num_box , :] = np.multiply(grid_size*scale, np.squeeze(np.dstack([asp1, asp2]),axis=0))[:num_box,:]\n",
        "\n",
        "\t\tidx += grid_size*grid_size*num_box\n",
        "\n",
        "\n",
        "\t# (x,y) co-ordinates of top left and bottom right\n",
        "\t# This actually is not used anywhere. centres[] and hw[] are a good enough substitute\n",
        "\tboxes[:,0] = centres[:,0] - hw[:,0]/2\n",
        "\tboxes[:,1] = centres[:,1] - hw[:,1]/2\n",
        "\tboxes[:,2] = centres[:,0] + hw[:,0]/2\n",
        "\tboxes[:,3] = centres[:,1] + hw[:,1]/2\n",
        "\n",
        "\treturn boxes, TOTAL_BOXES, centres, hw"
      ],
      "execution_count": null,
      "outputs": []
    },
    {
      "cell_type": "code",
      "metadata": {
        "id": "FSzu-ma6gK-x"
      },
      "source": [
        "boxes, TOTAL_BOXES, centres, hw = create_default_boxes()"
      ],
      "execution_count": null,
      "outputs": []
    },
    {
      "cell_type": "code",
      "metadata": {
        "id": "6TLSYWbvh2kJ"
      },
      "source": [
        "# calculate IoU for a set of search boxes and default boxes\n",
        "def IoU(box1, box2):\n",
        "\tbox1 = box1.astype(np.float64)\n",
        "\tbox2 = box2.astype(np.float64)\n",
        "\n",
        "\tx_top_left = np.maximum(box1[:,0], box2[:,0])\t\t\t# find x-coordinate of top-left corner for intersection.\n",
        "\tx_bottom_right = np.minimum(box1[:,2], box2[:,2])\t\t\t# find x-cordinate of bottom-right corner for intersection.\n",
        "\ty_top_left = np.maximum(box1[:,1], box2[:,1])\t\t\t# find y-coordinate of top-left corner for intersection.\n",
        "\ty_bottom_right = np.minimum(box1[:,3], box2[:,3])\t\t\t# find y-coordinate of bottom-right corner for intersection.\n",
        "\n",
        "\tintersection = np.abs(np.maximum(x_bottom_right - x_top_left,0) * np.maximum(y_bottom_right - y_top_left,0))\n",
        "\t\n",
        "\tboxArea1 = np.abs((box1[:,2] - box1[:,0]) * (box1[:,3] - box1[:,1]))\n",
        "\tboxArea2 = np.abs((box2[:,2] - box2[:,0]) * (box2[:,3] - box2[:,1]))\n",
        "\t\n",
        "\tunionArea = boxArea1 + boxArea2 - intersection\n",
        "\tassert (unionArea > 0).all()\n",
        "\treturn intersection / unionArea"
      ],
      "execution_count": null,
      "outputs": []
    },
    {
      "cell_type": "code",
      "metadata": {
        "id": "8z10Q5use7to"
      },
      "source": [
        "# give the index of the box correpsonding to the IoUs > threshold (=0.5) \n",
        "def bestIoU(searchBox):\n",
        "    return np.argwhere(IoU(matlib.repmat(searchBox, TOTAL_BOXES, 1), boxes) > 0.5)"
      ],
      "execution_count": null,
      "outputs": []
    },
    {
      "cell_type": "code",
      "metadata": {
        "id": "iXwFqot5PPse"
      },
      "source": [
        "classes = 15    # 10 classes + 1 background + 4 locations\n",
        "base_model=tf.keras.applications.MobileNetV2(input_shape=(224,224,3), weights='imagenet', include_top=False)        # Use of MobileNetV2 as a backbone for SSD.\n",
        "\n",
        "feature0 = base_model.get_layer('block_6_expand_relu').output\n",
        "feature1 = base_model.get_layer('block_13_expand_relu').output\n",
        "\n",
        "featureMaps = 6\n",
        "features = [None for _ in range(featureMaps)]\n",
        "classifiers = [None for _ in range(featureMaps)]\n",
        "\n",
        "conv1_1 = tf.keras.layers.Conv2D(256,1,name='SSD_conv_1_1')\n",
        "conv1_2 = tf.keras.layers.Conv2D(512,3,strides=(2,2),padding='same',name='SSD_conv_1_2')\n",
        "\n",
        "conv2_1 = tf.keras.layers.Conv2D(128,1,name='SSD_conv_2_1')\n",
        "conv2_2 = tf.keras.layers.Conv2D(256,3,strides=(2,2),padding='same',name='SSD_conv_2_2')\n",
        "\n",
        "conv3_1 = tf.keras.layers.Conv2D(128,1,name='SSD_conv_3_1')\n",
        "conv3_2 = tf.keras.layers.Conv2D(256,3,strides=(1,1),name='SSD_conv_3_2')\n",
        "\n",
        "conv4_1 = tf.keras.layers.Conv2D(128,1,name='SSD_conv_4_1')\n",
        "conv4_2 = tf.keras.layers.Conv2D(256,2,strides=(1,1),name='SSD_conv_4_2') # changed the kernel size to 2 since the output of the previous layer has width 3\n",
        "\n",
        "conv = []\n",
        "reshape = []\n",
        "\n",
        "for i in range(featureMaps):\n",
        "    conv.append(tf.keras.layers.Conv2D(numBoxes[i]*outputChannels, 3, padding='same', name='Classification_'+str(i)))\n",
        "    reshape.append(tf.keras.layers.Reshape((layerWidths[i]* layerWidths[i] * numBoxes[i], outputChannels),name='Reshape_classification_'+str(i)))\n",
        "\n",
        "# Use of different spatial features.\n",
        "features[0] = feature0\n",
        "features[1] = feature1\n",
        "features[2] = conv1_2(conv1_1(features[1]))\n",
        "features[3] = conv2_2(conv2_1(features[2]))\n",
        "features[4] = conv3_2(conv3_1(features[3]))\n",
        "features[5] = conv4_2(conv4_1(features[4]))\n",
        "\n",
        "for i in range(featureMaps):\n",
        "    x = conv[i](features[i])            # Apply 1x1 convolutions to generate bounding boxes.\n",
        "    x = reshape[i](x)                   # Reshape the output to (batch_size x TOTAL_BOXES x classes)\n",
        "    classifiers[i] = x\n",
        "output = tf.keras.layers.concatenate(classifiers, axis = -2, name='concatenate')\n",
        "\n",
        "model=tf.keras.Model(inputs=base_model.input,outputs=output) #specify the inputs and outputs\n",
        "# model.summary()"
      ],
      "execution_count": null,
      "outputs": []
    },
    {
      "cell_type": "markdown",
      "metadata": {
        "id": "PDaTtWagzW6B"
      },
      "source": [
        "Following functions are used to access the dataset from tfrecords. (Used https://dzlab.github.io/dltips/en/tensorflow/tfrecord/ as a reference.)"
      ]
    },
    {
      "cell_type": "code",
      "metadata": {
        "id": "mMiTFiYyRFNM"
      },
      "source": [
        "def _parse_function(proto):\n",
        "\t# define your tfrecord again. Remember that you saved your image as a string.\n",
        "\tkeys_to_features = {'image': tf.io.FixedLenFeature([], tf.string),\n",
        "\t\t\t\t\t\t'label': tf.io.FixedLenFeature([], tf.string)}\n",
        "\t\n",
        "\t# Load one example\n",
        "\tparsed_features = tf.io.parse_single_example(proto, keys_to_features)\n",
        "\t\n",
        "\t# Turn your saved image string into an array\n",
        "\tparsed_features['image'] = tf.io.decode_raw(parsed_features['image'], tf.float64)\n",
        "\tparsed_features['image'] = tf.reshape(parsed_features['image'], (224, 224, 3))\n",
        "\tparsed_features['label'] = tf.io.decode_raw(parsed_features['label'], tf.float64)\n",
        "\tparsed_features['label'] = tf.reshape(parsed_features['label'], (3150, 5))\n",
        "\n",
        "\treturn parsed_features['image'], parsed_features['label']\n",
        "\n",
        "  \n",
        "def create_dataset(filepath):\n",
        "\t\n",
        "\t# This works with arrays as well\n",
        "\tdataset = tf.data.TFRecordDataset(filepath)\n",
        "\t\n",
        "\t# Maps the parser on every filepath in the array. You can set the number of parallel loaders here\n",
        "\tdataset = dataset.map(_parse_function, num_parallel_calls=8)\n",
        "\treturn dataset"
      ],
      "execution_count": null,
      "outputs": []
    },
    {
      "cell_type": "code",
      "metadata": {
        "id": "n6mXt7Y7Y9tu"
      },
      "source": [
        "train_dataset = create_dataset(['data/mnist_obj_detection_2000_train.tfrecords'])\n",
        "test_dataset = create_dataset(['data/mnist_obj_detection_100_test.tfrecords'])"
      ],
      "execution_count": null,
      "outputs": []
    },
    {
      "cell_type": "code",
      "metadata": {
        "id": "sM2jG3BoRJKO",
        "colab": {
          "base_uri": "https://localhost:8080/"
        },
        "outputId": "a1f575b0-0a54-48fa-d45a-62d5eb05b672"
      },
      "source": [
        "BATCH_SIZE = 10\n",
        "SHUFFLE_BUFFER_SIZE = 60\n",
        "\n",
        "train_dataset = train_dataset.shuffle(SHUFFLE_BUFFER_SIZE).batch(BATCH_SIZE,drop_remainder=True)\n",
        "test_dataset = test_dataset.batch(BATCH_SIZE,drop_remainder=True)\n",
        "print(train_dataset)\n",
        "print(test_dataset)"
      ],
      "execution_count": null,
      "outputs": [
        {
          "output_type": "stream",
          "text": [
            "<BatchDataset shapes: ((10, 224, 224, 3), (10, 3150, 5)), types: (tf.float64, tf.float64)>\n",
            "<BatchDataset shapes: ((10, 224, 224, 3), (10, 3150, 5)), types: (tf.float64, tf.float64)>\n"
          ],
          "name": "stdout"
        }
      ]
    },
    {
      "cell_type": "markdown",
      "metadata": {
        "id": "UOV-HjtxyhU-"
      },
      "source": [
        "Smooth L1 loss function's code is based on the function given at https://pytorch.org/docs/stable/generated/torch.nn.SmoothL1Loss.html "
      ]
    },
    {
      "cell_type": "code",
      "metadata": {
        "id": "dDHTUkF6RMLb"
      },
      "source": [
        "# calculate the smooth L1 loss\n",
        "def smoothL1(x,y, label):\n",
        "    diff = K.abs(x-y)\n",
        "    result = K.switch(diff < 1, 0.5 * diff**2, diff - 0.5)\n",
        "    indicator_fn = tf.cast(label < 10, tf.float32)\n",
        "    result = result*tf.expand_dims(indicator_fn, axis=2)\n",
        "    return K.mean(result)"
      ],
      "execution_count": null,
      "outputs": []
    },
    {
      "cell_type": "markdown",
      "metadata": {
        "id": "wwBzQGiAwty0"
      },
      "source": [
        "Below function for hard negative mining is referred from this repository\n",
        "https://github.com/ChunML/ssd-tf2/blob/master/losses.py"
      ]
    },
    {
      "cell_type": "code",
      "metadata": {
        "id": "lzEBHOsK7TLg"
      },
      "source": [
        "# This is the old code for negative hard mining.\n",
        "# def hard_negative_mining(loss, gt_confs, neg_ratio=3):\n",
        "#     pos_idx = gt_confs < 10\n",
        "#     num_pos = tf.reduce_sum(tf.dtypes.cast(pos_idx, tf.int32), axis=1)\n",
        "#     num_neg = num_pos * neg_ratio\n",
        "\n",
        "#     rank = tf.argsort(loss, axis=1, direction='DESCENDING')\n",
        "#     rank = tf.argsort(rank, axis=1)\n",
        "#     neg_idx = rank < tf.expand_dims(num_neg, 1)\n",
        "\n",
        "#     return pos_idx, neg_idx\n",
        "\n",
        "# def confidenceLoss(y, label):\n",
        "#     classification_loss = tf.nn.sparse_softmax_cross_entropy_with_logits(label, y)\n",
        "#     pos_idx, neg_idx = hard_negative_mining(classification_loss, label)\n",
        "#     cross_entropy = tf.keras.losses.SparseCategoricalCrossentropy(from_logits=True)\n",
        "#     classification_loss = cross_entropy(label[tf.math.logical_or(pos_idx, neg_idx)], y[tf.math.logical_or(pos_idx, neg_idx)])\n",
        "#     return K.mean(classification_loss)"
      ],
      "execution_count": null,
      "outputs": []
    },
    {
      "cell_type": "markdown",
      "metadata": {
        "id": "crs0T3_O9Lc5"
      },
      "source": [
        "The following loss function is written based on the information given in this blog (https://becominghuman.ai/tensorflow-object-detection-api-basics-of-detection-7b134d689c75)"
      ]
    },
    {
      "cell_type": "code",
      "metadata": {
        "id": "mBgwXQ8dTUTp"
      },
      "source": [
        "# Contains implementation of Hard Negative Mining.\n",
        "def confidenceLoss(y, label):\n",
        "    total_classification_loss = tf.nn.sparse_softmax_cross_entropy_with_logits(label, y)\n",
        "\n",
        "    positive_indices = label < 10                                           # Find boxes having mnist digits.\n",
        "    positive_classification_loss = tf.math.reduce_mean(total_classification_loss[positive_indices])\n",
        "\n",
        "    negative_indices = 1.0 - tf.cast(positive_indices, tf.float32)                                 # Find boxes having no mnist digits.\n",
        "    negative_classification_loss = total_classification_loss*negative_indices                      # Make loss of all postive boxes as zero.\n",
        "    negative_classification_loss = tf.sort(negative_classification_loss, axis=1, direction='DESCENDING')\n",
        "    \n",
        "    positive_indices = tf.cast(positive_indices, tf.int32)                  # Cast the boolean tensor to integers.\n",
        "    total_num_positives = tf.math.reduce_sum(positive_indices, axis=1)      # Find the total number of boxes containing mnist digits.\n",
        "    required_num_negatives = tf.cast(3*total_num_positives, tf.int32)       # Usual ratio of negative examples to positive examples is 3:1. (This will give value of k to choose top-k negative losses.)\n",
        "    \n",
        "    batch_size, number_images = negative_classification_loss.shape          # Find batch size and number of image.\n",
        "    array = tf.constant(np.array([np.arange(number_images) for _ in range(batch_size)]))        # Create an array to select top-k negative losses.\n",
        "    array = tf.cast(array, tf.int32)\n",
        "    negative_indices = array < tf.expand_dims(required_num_negatives, axis=1)                               # Make True for top-k elements and the rest to be False.\n",
        "    negative_classification_loss = tf.math.reduce_mean(negative_classification_loss[negative_indices])       # Compute negative loss using top-k elements.\n",
        "\n",
        "    return tf.math.reduce_mean([positive_classification_loss, negative_classification_loss])"
      ],
      "execution_count": null,
      "outputs": []
    },
    {
      "cell_type": "code",
      "metadata": {
        "id": "byz853l8RayD"
      },
      "source": [
        "def Loss(gt, y):\n",
        "    # shape of y is batch_size * BOXES * outputChannels\n",
        "    # shape of gt is batch_size * BOXES * 5 \n",
        "    loss = 0\n",
        "    # localisation loss\n",
        "    loss += smoothL1(y[:,:,-4:], gt[:,:,-4:], gt[:, :, 0])\n",
        "    # confidence loss\n",
        "    loss += confidenceLoss(y[:,:,:-4], tf.cast(gt[:,:,0],tf.int32))\n",
        "    return loss"
      ],
      "execution_count": null,
      "outputs": []
    },
    {
      "cell_type": "code",
      "metadata": {
        "id": "pU4XVmr2Rg4Z"
      },
      "source": [
        "base_learning_rate = 0.0001\n",
        "model.compile(optimizer=tf.keras.optimizers.RMSprop(lr=base_learning_rate),loss=Loss)"
      ],
      "execution_count": null,
      "outputs": []
    },
    {
      "cell_type": "code",
      "metadata": {
        "id": "izJmRwVCRkYs",
        "colab": {
          "base_uri": "https://localhost:8080/"
        },
        "outputId": "f03af56c-a313-4291-dad8-18b8d9546677"
      },
      "source": [
        "history = model.fit(train_dataset, epochs=20, validation_data = test_dataset)"
      ],
      "execution_count": null,
      "outputs": [
        {
          "output_type": "stream",
          "text": [
            "Epoch 1/20\n",
            "200/200 [==============================] - 47s 158ms/step - loss: 2.5013 - val_loss: 1.5785\n",
            "Epoch 2/20\n",
            "200/200 [==============================] - 36s 167ms/step - loss: 1.1459 - val_loss: 1.2937\n",
            "Epoch 3/20\n",
            "200/200 [==============================] - 19s 93ms/step - loss: 0.8479 - val_loss: 1.1122\n",
            "Epoch 4/20\n",
            "200/200 [==============================] - 19s 94ms/step - loss: 0.6908 - val_loss: 0.9598\n",
            "Epoch 5/20\n",
            "200/200 [==============================] - 19s 93ms/step - loss: 0.5905 - val_loss: 0.9155\n",
            "Epoch 6/20\n",
            "200/200 [==============================] - 19s 92ms/step - loss: 0.5349 - val_loss: 0.8924\n",
            "Epoch 7/20\n",
            "200/200 [==============================] - 19s 92ms/step - loss: 0.4884 - val_loss: 0.7978\n",
            "Epoch 8/20\n",
            "200/200 [==============================] - 19s 92ms/step - loss: 0.4522 - val_loss: 0.7146\n",
            "Epoch 9/20\n",
            "200/200 [==============================] - 19s 91ms/step - loss: 0.4230 - val_loss: 0.6957\n",
            "Epoch 10/20\n",
            "200/200 [==============================] - 19s 91ms/step - loss: 0.4041 - val_loss: 0.6058\n",
            "Epoch 11/20\n",
            "200/200 [==============================] - 19s 92ms/step - loss: 0.3820 - val_loss: 0.6145\n",
            "Epoch 12/20\n",
            "200/200 [==============================] - 19s 92ms/step - loss: 0.3635 - val_loss: 0.5454\n",
            "Epoch 13/20\n",
            "200/200 [==============================] - 19s 92ms/step - loss: 0.3475 - val_loss: 0.5474\n",
            "Epoch 14/20\n",
            "200/200 [==============================] - 19s 92ms/step - loss: 0.3354 - val_loss: 0.5678\n",
            "Epoch 15/20\n",
            "200/200 [==============================] - 19s 91ms/step - loss: 0.3193 - val_loss: 0.5738\n",
            "Epoch 16/20\n",
            "200/200 [==============================] - 19s 92ms/step - loss: 0.3113 - val_loss: 0.5374\n",
            "Epoch 17/20\n",
            "200/200 [==============================] - 19s 91ms/step - loss: 0.3003 - val_loss: 0.5214\n",
            "Epoch 18/20\n",
            "200/200 [==============================] - 19s 92ms/step - loss: 0.2888 - val_loss: 0.5460\n",
            "Epoch 19/20\n",
            "200/200 [==============================] - 19s 92ms/step - loss: 0.2836 - val_loss: 0.5207\n",
            "Epoch 20/20\n",
            "200/200 [==============================] - 19s 92ms/step - loss: 0.2732 - val_loss: 0.4746\n"
          ],
          "name": "stdout"
        }
      ]
    },
    {
      "cell_type": "code",
      "metadata": {
        "colab": {
          "base_uri": "https://localhost:8080/"
        },
        "id": "SYujGKBxM47V",
        "outputId": "3358f146-44bb-4013-d4f4-64196e3633c2"
      },
      "source": [
        "# get prediction for one sample\n",
        "iterator = tf.compat.v1.data.make_one_shot_iterator(test_dataset)\n",
        "image, label = iterator.next()\n",
        "y_pred = model.predict(image)\n",
        "y_pred.shape"
      ],
      "execution_count": null,
      "outputs": [
        {
          "output_type": "execute_result",
          "data": {
            "text/plain": [
              "(10, 3150, 15)"
            ]
          },
          "metadata": {
            "tags": []
          },
          "execution_count": 64
        }
      ]
    },
    {
      "cell_type": "markdown",
      "metadata": {
        "id": "SmnRvhMhyGXj"
      },
      "source": [
        "Below visulization codes are referred from other repository."
      ]
    },
    {
      "cell_type": "code",
      "metadata": {
        "id": "SBMo0v3VM9Xr"
      },
      "source": [
        "import bottleneck\n",
        "OBJperCLASS = 10 # get the top 10 results for each class\n",
        "# get the confidence scores (with class values) and delta for the boxes. For each class, the top 10 values are used\n",
        "def infer(Y):\n",
        "    # classes are actually the index into the default boxes\n",
        "    classes = np.zeros((OBJperCLASS, outputChannels-4), dtype=np.uint16)        # [10, 11]\n",
        "    conf = np.zeros((OBJperCLASS, outputChannels-4))                            # [10, 11]\n",
        "    delta = np.zeros((OBJperCLASS, outputChannels-4, 4))                        # [10, 11, 4]\n",
        "    class_predictions = softmax(Y[:,:outputChannels-4],axis=1)                  # [3150, 11]\n",
        "    for i in range(outputChannels-4):                                           # (Loop to find boxes for each mnist digit class)\n",
        "        # Basically the below line is used to find 11 boxes for the present mnist digit.\n",
        "        classes[:,i] = bottleneck.argpartition(class_predictions[:,i], TOTAL_BOXES-1-10 , axis=-1)[-OBJperCLASS:]      # It will take class_prediction[:, i] (sized 3150,1) and argpartition at the 3150-11th element from last.\n",
        "        conf[:,i] = class_predictions[classes[:,i],i]               # Confidence score for each digit.\n",
        "        delta[:,i] = Y[classes[:,i],outputChannels-4:]              # Used to find cx, cy, h, w.\n",
        "    return conf, classes, delta\n",
        "\n",
        "# generate bounding boxes from the inferred outputs\n",
        "def Bbox(confidence,box_idx,delta):\n",
        "    #delta contains delta(cx,cy,h,w)\n",
        "    bbox_centre = np.zeros((OBJperCLASS,outputChannels-4,2))\n",
        "    bbox_hw = np.zeros((OBJperCLASS,outputChannels-4,2))\n",
        "    for i in range(OBJperCLASS):\n",
        "        bbox_centre[i,:,0] = centres[box_idx[i]][:,0]+delta[i,:,0]\n",
        "        bbox_centre[i,:,1] = centres[box_idx[i]][:,1]+delta[i,:,1]\n",
        "        bbox_hw[i,:,0] = hw[box_idx[i]][:,0] + delta[i,:,2]\n",
        "        bbox_hw[i,:,1] = hw[box_idx[i]][:,1] + delta[i,:,3]\n",
        "    return bbox_centre,bbox_hw"
      ],
      "execution_count": null,
      "outputs": []
    },
    {
      "cell_type": "markdown",
      "metadata": {
        "id": "_aWsKge3E5oW"
      },
      "source": [
        "Reference for algorithm of non-maximum-supression is referred from https://towardsdatascience.com/non-maximum-suppression-nms-93ce178e177c."
      ]
    },
    {
      "cell_type": "code",
      "metadata": {
        "id": "g5eg0OM7yfWU"
      },
      "source": [
        "def bbox_centre2corner(bbox_centre, bbox_hw):\n",
        "    box = np.zeros((1,4))\n",
        "    box[0, 0] = bbox_centre[0] - bbox_hw[0]/2\n",
        "    box[0, 1] = bbox_centre[1] - bbox_hw[1]/2\n",
        "    box[0, 2] = bbox_centre[0] + bbox_hw[0]/2\n",
        "    box[0, 3] = bbox_centre[1] + bbox_hw[1]/2\n",
        "    return box\n",
        "\n",
        "def non_maximum_supression(bbox_centre, bbox_hw, confidence, threshold):\n",
        "    result_bbox_c = []\n",
        "    result_bbox_hw = []\n",
        "    result_confidence = []\n",
        "    count = 0\n",
        "    while np.size(bbox_centre) != 0:\n",
        "        argmax = np.argsort(confidence)[-1]\n",
        "        result_bbox_c.append(bbox_centre[argmax])\n",
        "        result_bbox_hw.append(bbox_hw[argmax])\n",
        "        result_confidence.append(confidence[argmax])\n",
        "\n",
        "        bbox_centre = np.delete(bbox_centre, argmax, 0)\n",
        "        bbox_hw = np.delete(bbox_hw, argmax, 0)\n",
        "        confidence = np.delete(confidence, argmax, 0)\n",
        "\n",
        "        remove_idxs = []\n",
        "        for k in range(bbox_centre.shape[0]):\n",
        "            box1 = bbox_centre2corner(result_bbox_c[count], result_bbox_hw[count])\n",
        "            box2 = bbox_centre2corner(bbox_centre[k], bbox_hw[k])\n",
        "            iou = IoU(box1, box2)\n",
        "            if iou>threshold:\n",
        "                remove_idxs.append(k)\n",
        "        bbox_centre = np.delete(bbox_centre, remove_idxs, 0)\n",
        "        bbox_hw = np.delete(bbox_hw, remove_idxs, 0)\n",
        "        confidence = np.delete(confidence, remove_idxs, 0)\n",
        "        count += 1\n",
        "    return np.array(result_bbox_c).reshape(count, 2), np.array(result_bbox_hw).reshape(count, 2), np.array(result_confidence).reshape(count,1)"
      ],
      "execution_count": null,
      "outputs": []
    },
    {
      "cell_type": "code",
      "metadata": {
        "colab": {
          "base_uri": "https://localhost:8080/",
          "height": 321
        },
        "id": "KeclD8VkNAJr",
        "outputId": "8cb76043-8a97-4969-d680-6d37fb5d966e"
      },
      "source": [
        "idx = np.random.randint(BATCH_SIZE)\n",
        "from scipy.special import softmax\n",
        "\n",
        "# top 10 predictions for each class\n",
        "confidence, box_idx, delta = infer(y_pred[idx])\n",
        "bbox_centre,bbox_hw = Bbox(confidence, box_idx, delta)\n",
        "\n",
        "im = np.array(Image.fromarray(image[idx].numpy().astype(np.uint8)))\n",
        "fig,ax = plt.subplots(1)\n",
        "ax.imshow(im)\n",
        "\n",
        "for i in range(outputChannels-4):\n",
        "  # skipping backgrounds\n",
        "    if i == NUM_CLASSES:\n",
        "        continue\n",
        "    color = 'r'\n",
        "    # if a class is mentioned in the ground truth, color the boxes green\n",
        "    if i in label[idx,:,0]:\n",
        "        color = 'g'\n",
        "    \n",
        "    if (confidence[:,i]>0.5).any() or i in label[idx, :, 0]:\n",
        "        result_bbox_c, result_bbox_hw, result_confidence = non_maximum_supression(bbox_centre[:,i], bbox_hw[:,i], confidence[:,i], 0.4)\n",
        "        for ii in range(result_bbox_c.shape[0]):\n",
        "            print(\"{}: Confidence-{}\\t\\tCentre-{} Height,Width-{}\".format(i,result_confidence[ii],result_bbox_c[ii],result_bbox_hw[ii]))\n",
        "            x = result_bbox_c[ii,0] - result_bbox_hw[ii,0]/2\n",
        "            y = result_bbox_c[ii,1] - result_bbox_hw[ii,1]/2\n",
        "            rect = patches.Rectangle((y,x),result_bbox_hw[ii,1],result_bbox_hw[ii,0],linewidth=1,edgecolor=color,facecolor='none')\n",
        "            ax.add_patch(rect)\n",
        "    \n",
        "    # # skip all the classes which have low confidence values\n",
        "    # if (confidence[:,i] > 0.5).any() or i in label[idx,:,0]:\n",
        "    #     for k in range(OBJperCLASS):\n",
        "    #         print(\"{}: Confidence-{}\\t\\tCentre-{} Height,Width-{}\".format(i,confidence[k,i],bbox_centre[k,i],bbox_hw[k,i]))\n",
        "      \n",
        "    #         # draw bounding box only if confidence scores are high\n",
        "    #         if confidence[k,i] < 0.5:\n",
        "    #             continue\n",
        "    #         x = bbox_centre[k,i,0] - bbox_hw[k,i,0]/2\n",
        "    #         y = bbox_centre[k,i,1] - bbox_hw[k,i,1]/2\n",
        "    #         rect = patches.Rectangle((y,x),bbox_hw[k,i,1],bbox_hw[k,i,0],linewidth=1,edgecolor=color,facecolor='none')\n",
        "    #         ax.add_patch(rect)\n",
        "\n",
        "plt.show()"
      ],
      "execution_count": null,
      "outputs": [
        {
          "output_type": "stream",
          "text": [
            "2: Confidence-[0.47390249]\t\tCentre-[105.25201201 103.28097129] Height,Width-[26.08915183 25.88528582]\n",
            "5: Confidence-[0.99986792]\t\tCentre-[ 87.89479375 178.8705461 ] Height,Width-[39.83817062 41.5327691 ]\n",
            "6: Confidence-[0.99992919]\t\tCentre-[ 72.16457582 122.57190454] Height,Width-[56.35141513 54.90089747]\n"
          ],
          "name": "stdout"
        },
        {
          "output_type": "display_data",
          "data": {
            "image/png": "[encoded data removed]",
            "text/plain": [
              "<Figure size 432x288 with 1 Axes>"
            ]
          },
          "metadata": {
            "tags": [],
            "needs_background": "light"
          }
        }
      ]
    }
  ]
}